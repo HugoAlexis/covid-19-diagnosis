{
 "cells": [
  {
   "cell_type": "code",
   "execution_count": 1,
   "id": "37fed219",
   "metadata": {},
   "outputs": [],
   "source": [
    "import numpy as np\n",
    "import pandas as pd\n",
    "from sklearn.ensemble import RandomForestClassifier\n",
    "\n",
    "import metrics\n",
    "import evaluation"
   ]
  },
  {
   "cell_type": "code",
   "execution_count": 2,
   "id": "91941dc0",
   "metadata": {},
   "outputs": [],
   "source": [
    "data = pd.read_csv('./data_preprocess/tran.csv')\n",
    "features = np.loadtxt('./out/features_forward.txt', dtype='str')\n",
    "y = data['Positivo']\n",
    "data = data[features]"
   ]
  },
  {
   "cell_type": "code",
   "execution_count": 3,
   "id": "2af3bd2a",
   "metadata": {},
   "outputs": [],
   "source": [
    "model_params = {\n",
    "    'n_estimators': (100, 250, 500, 1000),\n",
    "    'max_depth': (3, 5, 7, 9, 11),\n",
    "    'max_features': (2, 4, 5)\n",
    "}\n",
    "\n",
    "params_values = [*model_params.values()]"
   ]
  },
  {
   "cell_type": "code",
   "execution_count": 13,
   "id": "299a4d43",
   "metadata": {},
   "outputs": [],
   "source": [
    "def make_combinations(lists, combinations=None):\n",
    "    if combinations is None:\n",
    "        combinations = [[li,] for li in lists.pop(0)]\n",
    "    else:\n",
    "        list_i = lists.pop(0)\n",
    "        new_combinations = []\n",
    "        for li in list_i:\n",
    "            for combination in combinations:\n",
    "                new_combinations.append([ *combination, li])\n",
    "                \n",
    "        combinations = new_combinations\n",
    "        \n",
    "    if lists:\n",
    "        combinations = make_combinations(lists, combinations)\n",
    "    return combinations\n",
    "\n",
    "combinations = make_combinations(params_values.copy())\n",
    "\n",
    "options_parms = [dict(zip(model_params.keys(), comb)) for comb in combinations]"
   ]
  },
  {
   "cell_type": "code",
   "execution_count": 22,
   "id": "2644a43f",
   "metadata": {},
   "outputs": [
    {
     "name": "stderr",
     "output_type": "stream",
     "text": [
      "110it [00:09, 11.46it/s]\n",
      "110it [00:23,  4.65it/s]\n",
      "110it [00:46,  2.34it/s]\n",
      "110it [01:33,  1.18it/s]\n",
      "110it [00:09, 11.41it/s]\n",
      "110it [00:23,  4.61it/s]\n",
      "110it [00:47,  2.33it/s]\n",
      "110it [01:34,  1.17it/s]\n",
      "110it [00:09, 11.38it/s]\n",
      "110it [00:23,  4.61it/s]\n",
      "110it [00:47,  2.31it/s]\n",
      "110it [01:34,  1.17it/s]\n",
      "110it [00:09, 11.32it/s]\n",
      "110it [00:23,  4.60it/s]\n",
      "110it [00:47,  2.32it/s]\n",
      "110it [01:34,  1.16it/s]\n",
      "110it [00:09, 11.35it/s]\n",
      "110it [00:23,  4.60it/s]\n",
      "110it [00:47,  2.32it/s]\n",
      "110it [01:34,  1.17it/s]\n",
      "110it [00:09, 11.18it/s]\n",
      "110it [00:24,  4.49it/s]\n",
      "110it [00:48,  2.27it/s]\n",
      "110it [01:36,  1.14it/s]\n",
      "110it [00:10, 10.99it/s]\n",
      "110it [00:24,  4.45it/s]\n",
      "110it [00:49,  2.24it/s]\n",
      "110it [01:37,  1.12it/s]\n",
      "110it [00:10, 10.95it/s]\n",
      "110it [00:24,  4.46it/s]\n",
      "110it [00:49,  2.24it/s]\n",
      "110it [01:37,  1.13it/s]\n",
      "110it [00:09, 11.02it/s]\n",
      "110it [00:24,  4.46it/s]\n",
      "110it [00:49,  2.23it/s]\n",
      "110it [01:38,  1.12it/s]\n",
      "110it [00:10, 10.98it/s]\n",
      "110it [00:24,  4.46it/s]\n",
      "110it [00:49,  2.24it/s]\n",
      "110it [01:37,  1.12it/s]\n",
      "110it [00:10, 10.92it/s]\n",
      "110it [00:24,  4.42it/s]\n",
      "110it [00:49,  2.23it/s]\n",
      "110it [01:38,  1.12it/s]\n",
      "110it [00:10, 10.77it/s]\n",
      "110it [00:25,  4.36it/s]\n",
      "110it [00:49,  2.20it/s]\n",
      "110it [01:39,  1.11it/s]\n",
      "110it [00:10, 10.81it/s]\n",
      "110it [00:25,  4.36it/s]\n",
      "110it [00:49,  2.21it/s]\n",
      "110it [01:39,  1.10it/s]\n",
      "110it [00:10, 10.81it/s]\n",
      "110it [00:25,  4.35it/s]\n",
      "110it [00:50,  2.18it/s]\n",
      "110it [01:39,  1.11it/s]\n",
      "110it [00:10, 10.74it/s]\n",
      "110it [00:25,  4.35it/s]\n",
      "110it [00:50,  2.19it/s]\n",
      "110it [01:39,  1.10it/s]\n"
     ]
    }
   ],
   "source": [
    "best_params = None\n",
    "best_score = None\n",
    "\n",
    "for params in options_parms:\n",
    "    model = RandomForestClassifier(**params)\n",
    "    ytrue, ypred = evaluation.predict_model_loo(model, data, y)\n",
    "    score = metrics.balanced_accuracy(ytrue, ypred)\n",
    "    \n",
    "    if best_params is None:\n",
    "        best_params = params\n",
    "        best_score = score\n",
    "    elif score > best_score:\n",
    "        best_params = params\n",
    "        best_score = score"
   ]
  },
  {
   "cell_type": "code",
   "execution_count": 23,
   "id": "dc31ef87",
   "metadata": {},
   "outputs": [
    {
     "data": {
      "text/plain": [
       "{'n_estimators': 1000, 'max_depth': 5, 'max_features': 2}"
      ]
     },
     "execution_count": 23,
     "metadata": {},
     "output_type": "execute_result"
    }
   ],
   "source": [
    "best_params"
   ]
  },
  {
   "cell_type": "code",
   "execution_count": 24,
   "id": "147c4a1c",
   "metadata": {},
   "outputs": [
    {
     "name": "stderr",
     "output_type": "stream",
     "text": [
      "110it [01:35,  1.16it/s]\n"
     ]
    },
    {
     "data": {
      "text/plain": [
       "0.928235294117647"
      ]
     },
     "execution_count": 24,
     "metadata": {},
     "output_type": "execute_result"
    }
   ],
   "source": [
    "\n",
    "model = RandomForestClassifier(**best_params)\n",
    "ytrue, ypred = evaluation.predict_model_loo(model, data, y, proba=True)\n",
    "score = metrics.balanced_accuracy(ytrue, ypred)\n",
    "\n",
    "score"
   ]
  },
  {
   "cell_type": "code",
   "execution_count": 25,
   "id": "b2179404",
   "metadata": {},
   "outputs": [
    {
     "data": {
      "text/plain": [
       "array([[83.,  3.],\n",
       "       [ 2., 22.]])"
      ]
     },
     "execution_count": 25,
     "metadata": {},
     "output_type": "execute_result"
    }
   ],
   "source": [
    "metrics.confusion_matrix(ytrue, ypred)"
   ]
  }
 ],
 "metadata": {
  "kernelspec": {
   "display_name": "Python 3 (ipykernel)",
   "language": "python",
   "name": "python3"
  },
  "language_info": {
   "codemirror_mode": {
    "name": "ipython",
    "version": 3
   },
   "file_extension": ".py",
   "mimetype": "text/x-python",
   "name": "python",
   "nbconvert_exporter": "python",
   "pygments_lexer": "ipython3",
   "version": "3.11.4"
  }
 },
 "nbformat": 4,
 "nbformat_minor": 5
}
