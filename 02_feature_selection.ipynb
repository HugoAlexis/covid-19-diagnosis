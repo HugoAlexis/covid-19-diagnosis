{
 "cells": [
  {
   "cell_type": "markdown",
   "id": "28ff0b39",
   "metadata": {},
   "source": [
    "# Feature Selection"
   ]
  },
  {
   "cell_type": "code",
   "execution_count": 8,
   "id": "9a6c6600",
   "metadata": {},
   "outputs": [],
   "source": [
    "import numpy as np\n",
    "import pandas as pd\n",
    "import matplotlib.pyplot as plt\n",
    "from metrics import *\n",
    "from sklearn.ensemble import RandomForestClassifier\n",
    "from sklearn.model_selection import LeaveOneOut\n",
    "from sklearn.pipeline import Pipeline\n",
    "from sklearn.base import BaseEstimator, TransformerMixin\n",
    "from sklearn.preprocessing import StandardScaler\n",
    "from sklearn.model_selection import GridSearchCV\n",
    "from sklearn_genetic.callbacks import ProgressBar\n",
    "from sklearn.linear_model import Lasso\n",
    "from tqdm import tqdm\n",
    "\n",
    "\n",
    "from boruta import BorutaPy\n",
    "from sklearn_genetic import GAFeatureSelectionCV"
   ]
  },
  {
   "cell_type": "code",
   "execution_count": 9,
   "id": "816232f8",
   "metadata": {},
   "outputs": [],
   "source": [
    "def predict_model_loo(model, X, y, proba=False):\n",
    "    y_pred = []\n",
    "    y_true = []\n",
    "    loo = LeaveOneOut()\n",
    "    \n",
    "    X = np.array(X)\n",
    "    y = np.array(y)\n",
    "    \n",
    "    if X.ndim == 1:\n",
    "        X = X[:, np.newaxis]\n",
    "    \n",
    "    for train_index, test_index in loo.split(X):\n",
    "        X_train, X_test = X[train_index, :], X[test_index, :]\n",
    "        y_train, y_test = y[train_index], y[test_index]\n",
    "        \n",
    "        model.fit(X_train, y_train)\n",
    "        if not proba:\n",
    "            yi_pred = model.predict(X_test)[0]\n",
    "        else:\n",
    "            yi_pred = model.predict_proba(X_test)[0, 1]\n",
    "        \n",
    "        y_true.append(y_test[0])\n",
    "        y_pred.append(yi_pred)\n",
    "            \n",
    "    return y_true, y_pred\n",
    "\n",
    "def forward_selection_get(model, X, y, columns=None, metric=balanced_accuracy, verbose=False):\n",
    "    \"\"\"\n",
    "    Realiza una seleccion de caracteristicas hacia adelante para el \n",
    "    modelo, en el orden pasado en columns, utilizando la metrica seleccionada, \n",
    "    y realizando una validacion con Leave One Out (loo). Regresa las \n",
    "    caracteristicas seleccionadas, las puntuaciones de la metrica del modelo\n",
    "    con las caracteristicas seleccionadas, y las puntuaciones de la metrica \n",
    "    del modelo en cada caracteristica.\n",
    "\n",
    "    Parametros:\n",
    "    ==========\n",
    "    model: sklearn estimator\n",
    "        Modelo que se utlizara al hacer la seleccion de caracteristicas. \n",
    "    X: pandas.DataFrame\n",
    "        DataFrame con los datos para entrenar/validar el modelo, que contenga\n",
    "        las caracteristicas como columnas y las filas como instancias.\n",
    "    y: np.array o list (array-like)\n",
    "        Target del modelo. \n",
    "    columns: np.array o list (array-like)\n",
    "        El nombre de las columnas (caracteristicas) de donde se seleccionaran \n",
    "        las caracteristicas del modelo. \n",
    "    metric: function: y_true, y_pred -> score\n",
    "        La metrica con la que se evaluara el modelo.\n",
    "    verbose: bool (opcional)\n",
    "        Si verbose es verdadero, imprime el numero de iteraciones restantes.\n",
    "\n",
    "    Return:\n",
    "    ===========\n",
    "    features_selected: list\n",
    "        Lista con las mejores caracteristicas encontradas.\n",
    "    scores_model_selected: list\n",
    "        La puntuacion de las caracteristicas seleccionadas al hacer la \n",
    "        seleccion hacia adelante.\n",
    "    scores: list\n",
    "        La puntuacion de cada caracteristica al ser agregada al modelo \n",
    "        junto con las anteriores.\n",
    "\n",
    "    \"\"\"\n",
    "    if columns is None:\n",
    "        columns = X.columns\n",
    "        \n",
    "    scores = []\n",
    "    scores_model_selected = []\n",
    "    features_selected = []\n",
    "    \n",
    "    n_cols = len(columns)\n",
    "    \n",
    "    for feature in tqdm(columns):\n",
    "        features = features_selected + [feature]\n",
    "        Xs = X[features]\n",
    "        \n",
    "        y_true, y_pred = predict_model_loo(model, Xs, y)\n",
    "        score = metric(y_true, y_pred)\n",
    "        scores.append(score)\n",
    "        \n",
    "        if not features_selected:\n",
    "            features_selected.append(feature)\n",
    "            scores_model_selected.append(score)\n",
    "            continue\n",
    "            \n",
    "        if score > scores_model_selected[-1]:\n",
    "            features_selected.append(feature)\n",
    "            scores_model_selected.append(score)\n",
    "        \n",
    "        if verbose:\n",
    "            print(n_cols, end='-')\n",
    "            n_cols -= 1\n",
    "        \n",
    "    return features_selected, scores_model_selected, scores\n",
    "    "
   ]
  },
  {
   "cell_type": "code",
   "execution_count": 10,
   "id": "cff04a1f",
   "metadata": {},
   "outputs": [],
   "source": [
    "data = pd.read_csv('data_preprocess/tran.csv')"
   ]
  },
  {
   "cell_type": "code",
   "execution_count": 11,
   "id": "05c33789",
   "metadata": {},
   "outputs": [],
   "source": [
    "columnas_target = ['Group', 'Positivo']\n",
    "columnas_sintomas = ['Fever', 'Cough', 'Headache', 'Dyspnea', 'Diarrhea',\n",
    "                     'Chest tightness', 'Chills', 'Pharyngalgia', 'Myalgia', 'Arthralgia',\n",
    "                     'Arthralgia', 'Rhinorrhea', 'Polypnea', 'Anosmya', 'Dysgeusia']\n",
    "columnas_clinicos = ['Age', 'Sex', 'Diabetes', 'Hipertension', 'Obesity', 'Smoking']\n",
    "columnas_lab = list(\n",
    "    set(data.columns)\n",
    "    .difference(set(columnas_target + columnas_sintomas + columnas_clinicos))\n",
    ")"
   ]
  },
  {
   "cell_type": "code",
   "execution_count": 12,
   "id": "0b48fd14",
   "metadata": {},
   "outputs": [
    {
     "name": "stdout",
     "output_type": "stream",
     "text": [
      "BORUTA: DONE!!\n"
     ]
    }
   ],
   "source": [
    "X = data[columnas_lab].values\n",
    "y = data['Positivo'].values\n",
    "\n",
    "print('BORUTA: ', end='')\n",
    "model = RandomForestClassifier()\n",
    "boruta = BorutaPy(model, n_estimators=500, max_iter=50, alpha=0.01)\n",
    "boruta.fit(X, y)\n",
    "\n",
    "columnas_boruta = []\n",
    "for column, res_boruta in zip(columnas_lab, boruta.support_):\n",
    "    if res_boruta:\n",
    "        columnas_boruta.append(column)\n",
    "        \n",
    "with open('out/features_boruta.txt', 'w') as f:\n",
    "    f.write('\\n'.join(columnas_boruta))\n",
    "    \n",
    "print('DONE!!')"
   ]
  },
  {
   "cell_type": "code",
   "execution_count": 14,
   "id": "3c28aa88",
   "metadata": {},
   "outputs": [],
   "source": [
    "BorutaPy?"
   ]
  },
  {
   "cell_type": "markdown",
   "id": "17fc2bac",
   "metadata": {},
   "source": [
    "## Seleccion hacia adelante"
   ]
  },
  {
   "cell_type": "code",
   "execution_count": null,
   "id": "9a1c66b0",
   "metadata": {
    "scrolled": false
   },
   "outputs": [],
   "source": [
    "X = data[columnas_lab]\n",
    "y = data['Positivo']\n",
    "features = list(pd.read_csv('out/univariable_rf.csv').feature)\n",
    "\n",
    "print('\\nFORWARD_SELECTION:')\n",
    "model = RandomForestClassifier(n_estimators=500, max_depth=7)\n",
    "columnas_forward, *_ = forward_selection_get(model, X, y, verbose=False, \n",
    "                                             columns=features, metric=f1_score)\n",
    "\n",
    "with open('out/features_forward.txt', 'w') as f:\n",
    "    f.write('\\n'.join(columnas_forward))\n",
    "    \n",
    "print('DONE!!')"
   ]
  },
  {
   "cell_type": "markdown",
   "id": "1e65cfad",
   "metadata": {},
   "source": [
    "## Algoritmos Geneticos"
   ]
  },
  {
   "cell_type": "code",
   "execution_count": null,
   "id": "d6e4ba5d",
   "metadata": {},
   "outputs": [],
   "source": [
    "X = data[columnas_lab]\n",
    "y = data['Positivo']\n",
    "\n",
    "\n",
    "print('\\nALGORITMOS GENETICOS: ')\n",
    "clf = RandomForestClassifier(n_estimators=100)\n",
    "evolved_estimator = GAFeatureSelectionCV(\n",
    "    estimator=clf,\n",
    "    cv=25,\n",
    "    scoring='balanced_accuracy',\n",
    "    population_size=50,\n",
    "    generations=200,\n",
    "    n_jobs=-1,\n",
    "    verbose=False,\n",
    "    keep_top_k=2,\n",
    "    elitism=True,\n",
    "    max_features=25,\n",
    "    crossover_probability=0.7,\n",
    "    mutation_probability=0.3,\n",
    ")\n",
    "\n",
    "\n",
    "evolved_estimator.fit(X, y, callbacks=ProgressBar())\n",
    "\n",
    "columnas_ga = []\n",
    "\n",
    "for support, col in zip(evolved_estimator.best_features_, columnas_lab):\n",
    "    if support:\n",
    "        columnas_ga.append(col)\n",
    "        d\n",
    "with open('out/features_genetic.txt', 'w') as f:\n",
    "    f.write('\\n'.join(columnas_ga))\n",
    "    \n",
    "print('DONE!')"
   ]
  },
  {
   "cell_type": "markdown",
   "id": "f51b0a3e",
   "metadata": {},
   "source": [
    "## LASSO"
   ]
  },
  {
   "cell_type": "code",
   "execution_count": 16,
   "id": "8dc9d1f9",
   "metadata": {},
   "outputs": [
    {
     "name": "stdout",
     "output_type": "stream",
     "text": [
      "LASSO: \n",
      "DONE!!\n"
     ]
    }
   ],
   "source": [
    "X = data[columnas_lab].values\n",
    "y = data['Positivo'].values\n",
    "features = columnas_lab\n",
    "\n",
    "print('LASSO: ')\n",
    "pipeline = Pipeline([\n",
    "    ('scaler', StandardScaler()), \n",
    "    ('model', Lasso())\n",
    "])\n",
    "\n",
    "search = GridSearchCV(pipeline, \n",
    "                {'model__alpha': np.arange(0.1, 5, 0.1)}, cv=25, \n",
    "                scoring='neg_mean_squared_error', verbose=0\n",
    ")\n",
    "\n",
    "search.fit(X, y)\n",
    "\n",
    "\n",
    "coefficients = search.best_estimator_.named_steps['model'].coef_\n",
    "columnas_lasso = []\n",
    "columnas_lasso_importance = []\n",
    "\n",
    "for col, importance in zip(features, np.abs(coefficients)):\n",
    "    if importance > 0:\n",
    "        columnas_lasso.append(col)\n",
    "        columnas_lasso_importance.append(importance)\n",
    "        \n",
    "with open('out/features_lasso.txt', 'w') as f:\n",
    "    f.write('\\n'.join(columnas_lasso))\n",
    "    \n",
    "print('DONE!!')"
   ]
  },
  {
   "cell_type": "code",
   "execution_count": 3,
   "id": "5e1c0e6a",
   "metadata": {},
   "outputs": [
    {
     "name": "stdout",
     "output_type": "stream",
     "text": [
      "WARNING:tensorflow:From C:\\Users\\hugoa\\AppData\\Local\\Programs\\Python\\Python311\\Lib\\site-packages\\keras\\src\\losses.py:2976: The name tf.losses.sparse_softmax_cross_entropy is deprecated. Please use tf.compat.v1.losses.sparse_softmax_cross_entropy instead.\n",
      "\n"
     ]
    }
   ],
   "source": [
    "import sklearn_genetic"
   ]
  },
  {
   "cell_type": "code",
   "execution_count": 4,
   "id": "3370c268",
   "metadata": {},
   "outputs": [
    {
     "data": {
      "text/plain": [
       "'0.10.1'"
      ]
     },
     "execution_count": 4,
     "metadata": {},
     "output_type": "execute_result"
    }
   ],
   "source": [
    "sklearn_genetic.__version__"
   ]
  },
  {
   "cell_type": "code",
   "execution_count": 6,
   "id": "3b1203c5",
   "metadata": {},
   "outputs": [],
   "source": [
    "import sklearn"
   ]
  },
  {
   "cell_type": "code",
   "execution_count": 18,
   "id": "8aed5419",
   "metadata": {},
   "outputs": [
    {
     "data": {
      "text/html": [
       "<style>#sk-container-id-1 {color: black;background-color: white;}#sk-container-id-1 pre{padding: 0;}#sk-container-id-1 div.sk-toggleable {background-color: white;}#sk-container-id-1 label.sk-toggleable__label {cursor: pointer;display: block;width: 100%;margin-bottom: 0;padding: 0.3em;box-sizing: border-box;text-align: center;}#sk-container-id-1 label.sk-toggleable__label-arrow:before {content: \"▸\";float: left;margin-right: 0.25em;color: #696969;}#sk-container-id-1 label.sk-toggleable__label-arrow:hover:before {color: black;}#sk-container-id-1 div.sk-estimator:hover label.sk-toggleable__label-arrow:before {color: black;}#sk-container-id-1 div.sk-toggleable__content {max-height: 0;max-width: 0;overflow: hidden;text-align: left;background-color: #f0f8ff;}#sk-container-id-1 div.sk-toggleable__content pre {margin: 0.2em;color: black;border-radius: 0.25em;background-color: #f0f8ff;}#sk-container-id-1 input.sk-toggleable__control:checked~div.sk-toggleable__content {max-height: 200px;max-width: 100%;overflow: auto;}#sk-container-id-1 input.sk-toggleable__control:checked~label.sk-toggleable__label-arrow:before {content: \"▾\";}#sk-container-id-1 div.sk-estimator input.sk-toggleable__control:checked~label.sk-toggleable__label {background-color: #d4ebff;}#sk-container-id-1 div.sk-label input.sk-toggleable__control:checked~label.sk-toggleable__label {background-color: #d4ebff;}#sk-container-id-1 input.sk-hidden--visually {border: 0;clip: rect(1px 1px 1px 1px);clip: rect(1px, 1px, 1px, 1px);height: 1px;margin: -1px;overflow: hidden;padding: 0;position: absolute;width: 1px;}#sk-container-id-1 div.sk-estimator {font-family: monospace;background-color: #f0f8ff;border: 1px dotted black;border-radius: 0.25em;box-sizing: border-box;margin-bottom: 0.5em;}#sk-container-id-1 div.sk-estimator:hover {background-color: #d4ebff;}#sk-container-id-1 div.sk-parallel-item::after {content: \"\";width: 100%;border-bottom: 1px solid gray;flex-grow: 1;}#sk-container-id-1 div.sk-label:hover label.sk-toggleable__label {background-color: #d4ebff;}#sk-container-id-1 div.sk-serial::before {content: \"\";position: absolute;border-left: 1px solid gray;box-sizing: border-box;top: 0;bottom: 0;left: 50%;z-index: 0;}#sk-container-id-1 div.sk-serial {display: flex;flex-direction: column;align-items: center;background-color: white;padding-right: 0.2em;padding-left: 0.2em;position: relative;}#sk-container-id-1 div.sk-item {position: relative;z-index: 1;}#sk-container-id-1 div.sk-parallel {display: flex;align-items: stretch;justify-content: center;background-color: white;position: relative;}#sk-container-id-1 div.sk-item::before, #sk-container-id-1 div.sk-parallel-item::before {content: \"\";position: absolute;border-left: 1px solid gray;box-sizing: border-box;top: 0;bottom: 0;left: 50%;z-index: -1;}#sk-container-id-1 div.sk-parallel-item {display: flex;flex-direction: column;z-index: 1;position: relative;background-color: white;}#sk-container-id-1 div.sk-parallel-item:first-child::after {align-self: flex-end;width: 50%;}#sk-container-id-1 div.sk-parallel-item:last-child::after {align-self: flex-start;width: 50%;}#sk-container-id-1 div.sk-parallel-item:only-child::after {width: 0;}#sk-container-id-1 div.sk-dashed-wrapped {border: 1px dashed gray;margin: 0 0.4em 0.5em 0.4em;box-sizing: border-box;padding-bottom: 0.4em;background-color: white;}#sk-container-id-1 div.sk-label label {font-family: monospace;font-weight: bold;display: inline-block;line-height: 1.2em;}#sk-container-id-1 div.sk-label-container {text-align: center;}#sk-container-id-1 div.sk-container {/* jupyter's `normalize.less` sets `[hidden] { display: none; }` but bootstrap.min.css set `[hidden] { display: none !important; }` so we also need the `!important` here to be able to override the default hidden behavior on the sphinx rendered scikit-learn.org. See: https://github.com/scikit-learn/scikit-learn/issues/21755 */display: inline-block !important;position: relative;}#sk-container-id-1 div.sk-text-repr-fallback {display: none;}</style><div id=\"sk-container-id-1\" class=\"sk-top-container\"><div class=\"sk-text-repr-fallback\"><pre>Pipeline(steps=[(&#x27;scaler&#x27;, StandardScaler()), (&#x27;model&#x27;, Lasso(alpha=0.1))])</pre><b>In a Jupyter environment, please rerun this cell to show the HTML representation or trust the notebook. <br />On GitHub, the HTML representation is unable to render, please try loading this page with nbviewer.org.</b></div><div class=\"sk-container\" hidden><div class=\"sk-item sk-dashed-wrapped\"><div class=\"sk-label-container\"><div class=\"sk-label sk-toggleable\"><input class=\"sk-toggleable__control sk-hidden--visually\" id=\"sk-estimator-id-1\" type=\"checkbox\" ><label for=\"sk-estimator-id-1\" class=\"sk-toggleable__label sk-toggleable__label-arrow\">Pipeline</label><div class=\"sk-toggleable__content\"><pre>Pipeline(steps=[(&#x27;scaler&#x27;, StandardScaler()), (&#x27;model&#x27;, Lasso(alpha=0.1))])</pre></div></div></div><div class=\"sk-serial\"><div class=\"sk-item\"><div class=\"sk-estimator sk-toggleable\"><input class=\"sk-toggleable__control sk-hidden--visually\" id=\"sk-estimator-id-2\" type=\"checkbox\" ><label for=\"sk-estimator-id-2\" class=\"sk-toggleable__label sk-toggleable__label-arrow\">StandardScaler</label><div class=\"sk-toggleable__content\"><pre>StandardScaler()</pre></div></div></div><div class=\"sk-item\"><div class=\"sk-estimator sk-toggleable\"><input class=\"sk-toggleable__control sk-hidden--visually\" id=\"sk-estimator-id-3\" type=\"checkbox\" ><label for=\"sk-estimator-id-3\" class=\"sk-toggleable__label sk-toggleable__label-arrow\">Lasso</label><div class=\"sk-toggleable__content\"><pre>Lasso(alpha=0.1)</pre></div></div></div></div></div></div></div>"
      ],
      "text/plain": [
       "Pipeline(steps=[('scaler', StandardScaler()), ('model', Lasso(alpha=0.1))])"
      ]
     },
     "execution_count": 18,
     "metadata": {},
     "output_type": "execute_result"
    }
   ],
   "source": [
    "search.best_estimator_"
   ]
  },
  {
   "cell_type": "code",
   "execution_count": 17,
   "id": "bf6e1e77",
   "metadata": {},
   "outputs": [],
   "source": [
    "coefficients = search.best_estimator_.named_steps['model'].coef_"
   ]
  },
  {
   "cell_type": "code",
   "execution_count": 19,
   "id": "407a5b5d",
   "metadata": {},
   "outputs": [],
   "source": [
    "Lasso?"
   ]
  },
  {
   "cell_type": "code",
   "execution_count": null,
   "id": "ce0eac05",
   "metadata": {},
   "outputs": [],
   "source": []
  }
 ],
 "metadata": {
  "kernelspec": {
   "display_name": "Python 3 (ipykernel)",
   "language": "python",
   "name": "python3"
  },
  "language_info": {
   "codemirror_mode": {
    "name": "ipython",
    "version": 3
   },
   "file_extension": ".py",
   "mimetype": "text/x-python",
   "name": "python",
   "nbconvert_exporter": "python",
   "pygments_lexer": "ipython3",
   "version": "3.11.4"
  }
 },
 "nbformat": 4,
 "nbformat_minor": 5
}
