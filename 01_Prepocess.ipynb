{
 "cells": [
  {
   "cell_type": "code",
   "execution_count": 14,
   "id": "96525121",
   "metadata": {},
   "outputs": [],
   "source": [
    "import numpy as np\n",
    "import pandas as pd\n",
    "from sklearn.preprocessing import StandardScaler\n",
    "from imputation import GroupsImputer"
   ]
  },
  {
   "cell_type": "code",
   "execution_count": 15,
   "id": "3b445616",
   "metadata": {},
   "outputs": [],
   "source": [
    "nans_to_delate_col = 30\n",
    "ntest_per_group = 12\n",
    "random_state = 8"
   ]
  },
  {
   "cell_type": "code",
   "execution_count": 3,
   "id": "d629fa88",
   "metadata": {},
   "outputs": [],
   "source": [
    "# Carga el dataset original\n",
    "data = (\n",
    "    pd.read_excel('../data/Immunometabolism_COVID-19_Data.xlsx')\n",
    "    .drop(columns=['ID '])\n",
    ")\n",
    "\n",
    "data['Positivo'] = (data['Group']>1).astype(int)\n",
    "data.columns = data.columns.str.replace(' ', '_')\n",
    "\n",
    "# Trnsforma las columnas al tipo de dato correcto\n",
    "columns_object = data.columns[data.dtypes=='object']\n",
    "columns_object_del = []\n",
    "\n",
    "for col in columns_object:\n",
    "    data[col] = data[col].str.replace('<', '')\n",
    "    data[col] = data[col].str.replace('>', '')\n",
    "    \n",
    "    try:\n",
    "        data[col] = data[col].astype(float)\n",
    "    except ValueError:\n",
    "        columns_object_del.append(col)\n",
    "\n",
    "# Elimina las columnas con muchos datos faltantes\n",
    "nulls_per_column = data.isnull().sum(axis=0)\n",
    "columns_del = list(nulls_per_column[nulls_per_column>=nans_to_delate_col].index) \\\n",
    "              + columns_object_del\n",
    "\n",
    "data_del = data[columns_del]\n",
    "data.drop(columns=columns_del, inplace=True);\n"
   ]
  },
  {
   "cell_type": "markdown",
   "id": "463e9780",
   "metadata": {},
   "source": [
    "## Train/test"
   ]
  },
  {
   "cell_type": "code",
   "execution_count": 4,
   "id": "0684716e",
   "metadata": {},
   "outputs": [],
   "source": [
    "groups = data.Group\n",
    "\n",
    "train_index = []\n",
    "test_index = []\n",
    "\n",
    "rdm = np.random.RandomState(random_state)\n",
    "\n",
    "for group in [1, 2, 3, 4]:\n",
    "    index_group = data[data.Group==group].index\n",
    "    test_index_group = rdm.choice(a      = index_group, \n",
    "                                  size   = ntest_per_group, \n",
    "                                  replace=False)    \n",
    "    test_index.extend(test_index_group)\n",
    "\n",
    "\n",
    "train_index = data.index.difference(test_index)\n",
    "train_index = np.array(train_index)\n",
    "test_index = np.array(test_index)"
   ]
  },
  {
   "cell_type": "code",
   "execution_count": 5,
   "id": "7013f67e",
   "metadata": {},
   "outputs": [],
   "source": [
    "data_train = data.loc[train_index]\n",
    "data_test  = data.loc[test_index]"
   ]
  },
  {
   "cell_type": "code",
   "execution_count": 6,
   "id": "f64e5cc8",
   "metadata": {},
   "outputs": [],
   "source": [
    "filler = GroupsImputer()\n",
    "filler.fit(data_train, data_train.Group)\n",
    "\n",
    "data_train_filled = filler.transform(data_train, data_train.Group)\n",
    "data_test_filled = filler.transform(data_test, data_test.Group)"
   ]
  },
  {
   "cell_type": "code",
   "execution_count": 17,
   "id": "08092646",
   "metadata": {},
   "outputs": [],
   "source": [
    "data_train_filled.to_csv('data_preprocess/tran.csv', index=False)\n",
    "data_test_filled.to_csv('data_preprocess/test.csv', index=False)"
   ]
  },
  {
   "cell_type": "code",
   "execution_count": null,
   "id": "ff21e413",
   "metadata": {},
   "outputs": [],
   "source": []
  }
 ],
 "metadata": {
  "kernelspec": {
   "display_name": "Python 3 (ipykernel)",
   "language": "python",
   "name": "python3"
  },
  "language_info": {
   "codemirror_mode": {
    "name": "ipython",
    "version": 3
   },
   "file_extension": ".py",
   "mimetype": "text/x-python",
   "name": "python",
   "nbconvert_exporter": "python",
   "pygments_lexer": "ipython3",
   "version": "3.11.4"
  }
 },
 "nbformat": 4,
 "nbformat_minor": 5
}
